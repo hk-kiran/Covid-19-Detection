{
  "nbformat": 4,
  "nbformat_minor": 0,
  "metadata": {
    "colab": {
      "name": "Covid-19_detection.ipynb",
      "provenance": [],
      "collapsed_sections": [],
      "authorship_tag": "ABX9TyO0mELXruKnGLDgwwwjIvfb",
      "include_colab_link": true
    },
    "kernelspec": {
      "name": "python3",
      "display_name": "Python 3"
    },
    "accelerator": "GPU"
  },
  "cells": [
    {
      "cell_type": "markdown",
      "metadata": {
        "id": "view-in-github",
        "colab_type": "text"
      },
      "source": [
        "<a href=\"https://colab.research.google.com/github/hk-kiran/Covid-19-Detection/blob/master/Covid_19_detection.ipynb\" target=\"_parent\"><img src=\"https://colab.research.google.com/assets/colab-badge.svg\" alt=\"Open In Colab\"/></a>"
      ]
    },
    {
      "cell_type": "code",
      "metadata": {
        "id": "M6IS2TtciZtp",
        "colab_type": "code",
        "colab": {}
      },
      "source": [
        "from datetime import datetime\n",
        "from tensorflow.keras.preprocessing.image import ImageDataGenerator\n",
        "from tensorflow.keras.applications import VGG16\n",
        "from tensorflow.keras.layers import AveragePooling2D\n",
        "from tensorflow.keras.layers import Dropout\n",
        "from tensorflow.keras.layers import Flatten\n",
        "from tensorflow.keras.layers import Dense\n",
        "from tensorflow.keras.layers import Input\n",
        "from tensorflow.keras.models import Model\n",
        "from tensorflow.keras.optimizers import Adam\n",
        "from tensorflow.keras.utils import to_categorical\n",
        "from sklearn.preprocessing import LabelBinarizer\n",
        "from sklearn.model_selection import train_test_split\n",
        "from sklearn.metrics import classification_report\n",
        "from sklearn.metrics import confusion_matrix\n",
        "from imutils import paths\n",
        "import matplotlib.pyplot as plt\n",
        "import numpy as np\n",
        "import argparse\n",
        "import cv2\n",
        "import os\n",
        "import math"
      ],
      "execution_count": 0,
      "outputs": []
    },
    {
      "cell_type": "code",
      "metadata": {
        "id": "5Mzppn6hieKh",
        "colab_type": "code",
        "colab": {
          "base_uri": "https://localhost:8080/",
          "height": 86
        },
        "outputId": "491294ed-bcb5-4cc0-b566-9401dec618ac"
      },
      "source": [
        "INIT_LR = 1e-3\n",
        "EPOCHS = 25\n",
        "trainAug = ImageDataGenerator(\n",
        "\trotation_range=15,\n",
        "\tfill_mode=\"nearest\",\n",
        "  validation_split=0.2,\n",
        "  rescale=1. /255\n",
        "  )\n",
        "\n",
        "traindata = trainAug.flow_from_directory(\n",
        "    \"dataset\",\n",
        "    target_size=(224, 224),\n",
        "    color_mode=\"rgb\",\n",
        "    classes=None,\n",
        "    class_mode=\"categorical\",\n",
        "    batch_size=128,\n",
        "    shuffle=True,\n",
        "    seed=1337,\n",
        "    save_to_dir=None,\n",
        "    save_prefix=\"\",\n",
        "    save_format=\"png\",\n",
        "    follow_links=False,\n",
        "    subset=\"training\",\n",
        "    interpolation=\"nearest\",\n",
        ")\n",
        "print(traindata.class_indices)\n",
        "print(traindata.n)\n",
        "valdata = trainAug.flow_from_directory(\n",
        "    \"dataset\",\n",
        "    target_size=(224, 224),\n",
        "    color_mode=\"rgb\",\n",
        "    classes=None,\n",
        "    class_mode=\"categorical\",\n",
        "    batch_size=128,\n",
        "    shuffle=False,\n",
        "    seed=1337,\n",
        "    save_to_dir=None,\n",
        "    save_prefix=\"\",\n",
        "    save_format=\"png\",\n",
        "    follow_links=False,\n",
        "    subset=\"validation\",\n",
        "    interpolation=\"nearest\",\n",
        ")"
      ],
      "execution_count": 38,
      "outputs": [
        {
          "output_type": "stream",
          "text": [
            "Found 1774 images belonging to 2 classes.\n",
            "{'covid': 0, 'normal': 1}\n",
            "1774\n",
            "Found 443 images belonging to 2 classes.\n"
          ],
          "name": "stdout"
        }
      ]
    },
    {
      "cell_type": "code",
      "metadata": {
        "id": "qPaoW_G6iiqw",
        "colab_type": "code",
        "colab": {}
      },
      "source": [
        "baseModel = VGG16(weights=\"imagenet\", include_top=False,\n",
        "\tinput_tensor=Input(shape=(224, 224, 3)))\n",
        "headModel = baseModel.output\n",
        "headModel = AveragePooling2D(pool_size=(4, 4))(headModel)\n",
        "headModel = Flatten(name=\"flatten\")(headModel)\n",
        "headModel = Dense(64, activation=\"relu\")(headModel)\n",
        "headModel = Dropout(0.5)(headModel)\n",
        "headModel = Dense(2, activation=\"softmax\")(headModel)\n",
        "model = Model(inputs=baseModel.input, outputs=headModel)\n",
        "for layer in baseModel.layers:\n",
        "\tlayer.trainable = False\n"
      ],
      "execution_count": 0,
      "outputs": []
    },
    {
      "cell_type": "code",
      "metadata": {
        "id": "srKlQAKoizv4",
        "colab_type": "code",
        "colab": {
          "base_uri": "https://localhost:8080/",
          "height": 34
        },
        "outputId": "05adfe5c-8401-4a67-d13c-2f193886bdb2"
      },
      "source": [
        "print(\"[INFO] compiling model...\")\n",
        "opt = Adam(lr=INIT_LR, decay=INIT_LR / EPOCHS)\n",
        "model.compile(loss=\"binary_crossentropy\", optimizer=opt,\n",
        "\tmetrics=[\"accuracy\"])"
      ],
      "execution_count": 26,
      "outputs": [
        {
          "output_type": "stream",
          "text": [
            "[INFO] compiling model...\n"
          ],
          "name": "stdout"
        }
      ]
    },
    {
      "cell_type": "code",
      "metadata": {
        "id": "Zyn80jJxi2Hs",
        "colab_type": "code",
        "colab": {
          "base_uri": "https://localhost:8080/",
          "height": 923
        },
        "outputId": "73e944b7-b09e-4e6f-d654-bffc055f73da"
      },
      "source": [
        "print(\"[INFO] training head...\")\n",
        "H = model.fit(\n",
        "\ttraindata,\n",
        "\tsteps_per_epoch=math.ceil(traindata.n / traindata.batch_size),\n",
        "\tvalidation_data=valdata,\n",
        "\tvalidation_steps=math.ceil(valdata.n / valdata.batch_size),\n",
        "\tepochs=EPOCHS)"
      ],
      "execution_count": 28,
      "outputs": [
        {
          "output_type": "stream",
          "text": [
            "[INFO] training head...\n",
            "Epoch 1/25\n",
            "14/14 [==============================] - 60s 4s/step - loss: 0.6257 - accuracy: 0.6691 - val_loss: 0.4328 - val_accuracy: 0.9165\n",
            "Epoch 2/25\n",
            "14/14 [==============================] - 61s 4s/step - loss: 0.3968 - accuracy: 0.8675 - val_loss: 0.3078 - val_accuracy: 0.9210\n",
            "Epoch 3/25\n",
            "14/14 [==============================] - 61s 4s/step - loss: 0.2844 - accuracy: 0.9222 - val_loss: 0.2320 - val_accuracy: 0.9436\n",
            "Epoch 4/25\n",
            "14/14 [==============================] - 61s 4s/step - loss: 0.2264 - accuracy: 0.9363 - val_loss: 0.1951 - val_accuracy: 0.9549\n",
            "Epoch 5/25\n",
            "14/14 [==============================] - 61s 4s/step - loss: 0.1910 - accuracy: 0.9476 - val_loss: 0.1665 - val_accuracy: 0.9481\n",
            "Epoch 6/25\n",
            "14/14 [==============================] - 61s 4s/step - loss: 0.1558 - accuracy: 0.9521 - val_loss: 0.1441 - val_accuracy: 0.9526\n",
            "Epoch 7/25\n",
            "14/14 [==============================] - 61s 4s/step - loss: 0.1421 - accuracy: 0.9566 - val_loss: 0.1270 - val_accuracy: 0.9503\n",
            "Epoch 8/25\n",
            "14/14 [==============================] - 61s 4s/step - loss: 0.1290 - accuracy: 0.9605 - val_loss: 0.1201 - val_accuracy: 0.9503\n",
            "Epoch 9/25\n",
            "14/14 [==============================] - 61s 4s/step - loss: 0.1206 - accuracy: 0.9611 - val_loss: 0.1201 - val_accuracy: 0.9503\n",
            "Epoch 10/25\n",
            "14/14 [==============================] - 61s 4s/step - loss: 0.1262 - accuracy: 0.9577 - val_loss: 0.1032 - val_accuracy: 0.9639\n",
            "Epoch 11/25\n",
            "14/14 [==============================] - 61s 4s/step - loss: 0.1123 - accuracy: 0.9645 - val_loss: 0.0997 - val_accuracy: 0.9594\n",
            "Epoch 12/25\n",
            "14/14 [==============================] - 61s 4s/step - loss: 0.0989 - accuracy: 0.9735 - val_loss: 0.0859 - val_accuracy: 0.9707\n",
            "Epoch 13/25\n",
            "14/14 [==============================] - 62s 4s/step - loss: 0.0950 - accuracy: 0.9696 - val_loss: 0.0861 - val_accuracy: 0.9616\n",
            "Epoch 14/25\n",
            "14/14 [==============================] - 61s 4s/step - loss: 0.0919 - accuracy: 0.9707 - val_loss: 0.0803 - val_accuracy: 0.9684\n",
            "Epoch 15/25\n",
            "14/14 [==============================] - 61s 4s/step - loss: 0.0905 - accuracy: 0.9696 - val_loss: 0.0786 - val_accuracy: 0.9684\n",
            "Epoch 16/25\n",
            "14/14 [==============================] - 61s 4s/step - loss: 0.0914 - accuracy: 0.9701 - val_loss: 0.0855 - val_accuracy: 0.9616\n",
            "Epoch 17/25\n",
            "14/14 [==============================] - 61s 4s/step - loss: 0.0808 - accuracy: 0.9769 - val_loss: 0.0811 - val_accuracy: 0.9684\n",
            "Epoch 18/25\n",
            "14/14 [==============================] - 61s 4s/step - loss: 0.0793 - accuracy: 0.9758 - val_loss: 0.0690 - val_accuracy: 0.9752\n",
            "Epoch 19/25\n",
            "14/14 [==============================] - 61s 4s/step - loss: 0.0729 - accuracy: 0.9752 - val_loss: 0.0652 - val_accuracy: 0.9752\n",
            "Epoch 20/25\n",
            "14/14 [==============================] - 61s 4s/step - loss: 0.0700 - accuracy: 0.9775 - val_loss: 0.0749 - val_accuracy: 0.9684\n",
            "Epoch 21/25\n",
            "14/14 [==============================] - 61s 4s/step - loss: 0.0785 - accuracy: 0.9729 - val_loss: 0.0627 - val_accuracy: 0.9774\n",
            "Epoch 22/25\n",
            "14/14 [==============================] - 61s 4s/step - loss: 0.0726 - accuracy: 0.9741 - val_loss: 0.0541 - val_accuracy: 0.9797\n",
            "Epoch 23/25\n",
            "14/14 [==============================] - 61s 4s/step - loss: 0.0667 - accuracy: 0.9797 - val_loss: 0.0790 - val_accuracy: 0.9639\n",
            "Epoch 24/25\n",
            "14/14 [==============================] - 61s 4s/step - loss: 0.0645 - accuracy: 0.9791 - val_loss: 0.0508 - val_accuracy: 0.9842\n",
            "Epoch 25/25\n",
            "14/14 [==============================] - 61s 4s/step - loss: 0.0646 - accuracy: 0.9763 - val_loss: 0.0517 - val_accuracy: 0.9752\n"
          ],
          "name": "stdout"
        }
      ]
    },
    {
      "cell_type": "code",
      "metadata": {
        "id": "nNoqfEEPi9q1",
        "colab_type": "code",
        "colab": {
          "base_uri": "https://localhost:8080/",
          "height": 208
        },
        "outputId": "d264ffac-3554-4088-ae33-b10599a41f40"
      },
      "source": [
        "print(\"[INFO] evaluating network...\")\n",
        "#valdata.reset()\n",
        "predIdxs = model.predict(valdata,\n",
        "steps= math.ceil(valdata.n / valdata.batch_size),\n",
        "verbose=1)\n",
        "\n",
        "# for each image in the testing set we need to find the index of the\n",
        "# label with corresponding largest predicted probability\n",
        "predIdxs = np.argmax(predIdxs, axis=1)\n",
        "\n",
        "# show a nicely formatted classification report\n",
        "labels = (valdata.class_indices)\n",
        "labels = dict((v,k) for k,v in labels.items())\n",
        "\n",
        "print(classification_report(valdata.labels, predIdxs,\n",
        "\ttarget_names=['covid','normal']))"
      ],
      "execution_count": 39,
      "outputs": [
        {
          "output_type": "stream",
          "text": [
            "[INFO] evaluating network...\n",
            "4/4 [==============================] - 7s 2s/step\n",
            "              precision    recall  f1-score   support\n",
            "\n",
            "       covid       0.99      0.97      0.98       175\n",
            "      normal       0.98      0.99      0.99       268\n",
            "\n",
            "    accuracy                           0.98       443\n",
            "   macro avg       0.98      0.98      0.98       443\n",
            "weighted avg       0.98      0.98      0.98       443\n",
            "\n"
          ],
          "name": "stdout"
        }
      ]
    },
    {
      "cell_type": "code",
      "metadata": {
        "id": "AnteR2Nup3u2",
        "colab_type": "code",
        "colab": {
          "base_uri": "https://localhost:8080/",
          "height": 299
        },
        "outputId": "6aedca18-f5f4-41bc-e8bf-28e39314e62b"
      },
      "source": [
        "N = EPOCHS\n",
        "plt.style.use(\"ggplot\")\n",
        "plt.figure()\n",
        "plt.plot(np.arange(0, N), H.history[\"loss\"], label=\"train_loss\")\n",
        "plt.plot(np.arange(0, N), H.history[\"val_loss\"], label=\"val_loss\")\n",
        "plt.plot(np.arange(0, N), H.history[\"accuracy\"], label=\"train_acc\")\n",
        "plt.plot(np.arange(0, N), H.history[\"val_accuracy\"], label=\"val_acc\")\n",
        "plt.title(\"Training Loss and Accuracy on COVID-19 Dataset\")\n",
        "plt.xlabel(\"Epoch #\")\n",
        "plt.ylabel(\"Loss/Accuracy\")\n",
        "plt.legend(loc=\"lower left\")\n",
        "now = datetime.now()\n",
        "dt_string = now.strftime(\"%d%m%Y%H:%M:%S\")\n",
        "plt.savefig(\"outputs/\"+\"plot.png\")"
      ],
      "execution_count": 40,
      "outputs": [
        {
          "output_type": "display_data",
          "data": {
            "image/png": "[encoded data removed]",
            "text/plain": [
              "<Figure size 432x288 with 1 Axes>"
            ]
          },
          "metadata": {
            "tags": []
          }
        }
      ]
    },
    {
      "cell_type": "code",
      "metadata": {
        "id": "tTs0NqNOrS_s",
        "colab_type": "code",
        "colab": {
          "base_uri": "https://localhost:8080/",
          "height": 104
        },
        "outputId": "ded68ab3-7a50-49ac-af8f-9a67b85fe6f2"
      },
      "source": [
        "valdata.labels\n",
        "cm = confusion_matrix(valdata.labels, predIdxs)\n",
        "total = sum(sum(cm))\n",
        "acc = (cm[0, 0] + cm[1, 1]) / total\n",
        "sensitivity = cm[0, 0] / (cm[0, 0] + cm[0, 1])\n",
        "specificity = cm[1, 1] / (cm[1, 0] + cm[1, 1])\n",
        "\n",
        "# show the confusion matrix, accuracy, sensitivity, and specificity\n",
        "print(cm)\n",
        "print(\"acc: {:.4f}\".format(acc))\n",
        "print(\"sensitivity: {:.4f}\".format(sensitivity))\n",
        "print(\"specificity: {:.4f}\".format(specificity))"
      ],
      "execution_count": 43,
      "outputs": [
        {
          "output_type": "stream",
          "text": [
            "[[170   5]\n",
            " [  2 266]]\n",
            "acc: 0.9842\n",
            "sensitivity: 0.9714\n",
            "specificity: 0.9925\n"
          ],
          "name": "stdout"
        }
      ]
    },
    {
      "cell_type": "code",
      "metadata": {
        "id": "uS85QJj6qRRm",
        "colab_type": "code",
        "colab": {
          "base_uri": "https://localhost:8080/",
          "height": 34
        },
        "outputId": "9282dc1f-8b06-4bf8-f765-73b6b50a0837"
      },
      "source": [
        "print(\"[INFO] saving COVID-19 detector model...\")\n",
        "model.save(\"outputs/\"+\"covid19.model\", save_format=\"h5\")"
      ],
      "execution_count": 34,
      "outputs": [
        {
          "output_type": "stream",
          "text": [
            "[INFO] saving COVID-19 detector model...\n"
          ],
          "name": "stdout"
        }
      ]
    }
  ]
}